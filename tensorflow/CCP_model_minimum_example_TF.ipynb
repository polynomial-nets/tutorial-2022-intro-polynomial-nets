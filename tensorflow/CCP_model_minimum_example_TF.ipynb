{
  "nbformat": 4,
  "nbformat_minor": 0,
  "metadata": {
    "colab": {
      "name": "CCP_model_minimum_example_TF.ipynb",
      "provenance": [],
      "collapsed_sections": []
    },
    "kernelspec": {
      "name": "python3",
      "display_name": "Python 3"
    },
    "language_info": {
      "name": "python"
    },
    "accelerator": "GPU"
  },
  "cells": [
    {
      "cell_type": "code",
      "execution_count": 1,
      "metadata": {
        "colab": {
          "base_uri": "https://localhost:8080/"
        },
        "id": "rpcr7wK6j9zq",
        "outputId": "79aaa578-4c57-4ca4-dd3a-256f7e4eca4d"
      },
      "outputs": [
        {
          "output_type": "stream",
          "name": "stdout",
          "text": [
            "2.8.2\n"
          ]
        }
      ],
      "source": [
        "import tensorflow as tf\n",
        "from tensorflow.keras import Model, layers, datasets\n",
        "tf.compat.v1.enable_eager_execution()\n",
        "tf.print(tf. __version__)\n",
        "from sklearn.model_selection import train_test_split\n",
        "import numpy as np\n",
        "import matplotlib.pyplot as plt"
      ]
    },
    {
      "cell_type": "code",
      "source": [
        "def load_db(path='mnist.npz', batch_size=64, shuffle=True, valid_ratio=0.2):\n",
        "    (x_train, y_train), (x_test, y_test) = datasets.mnist.load_data(path)\n",
        "    x_train, x_test = np.array(x_train, np.float32) / 255., np.array(x_test, np.float32)/ 255\n",
        "    x_train_sampler, x_valid_sampler, y_train_sampler, y_valid_sampler = train_test_split(x_train, y_train,\n",
        "                                                                                          stratify=y_train, test_size=valid_ratio)\n",
        "    x_train_sampler = layers.Normalization(mean=0.5, variance=0.5)(x_train_sampler)\n",
        "    x_valid_sampler = layers.Normalization(mean=0.5, variance=0.5)(x_valid_sampler)\n",
        "    x_test = layers.Normalization(mean=0.5, variance=0.5)(x_test)\n",
        "\n",
        "    train_loader = tf.data.Dataset.from_tensor_slices((x_train_sampler, y_train_sampler)).batch(batch_size)\n",
        "    valid_loader = tf.data.Dataset.from_tensor_slices((x_valid_sampler, y_valid_sampler)).batch(batch_size)\n",
        "    test_loader = tf.data.Dataset.from_tensor_slices((x_test, y_test)).batch(batch_size)\n",
        "\n",
        "    if shuffle:\n",
        "        train_loader = train_loader.shuffle(5000)\n",
        "        valid_loader = valid_loader.shuffle(5000)\n",
        "        test_loader = test_loader.shuffle(5000)\n",
        "\n",
        "    image_size, n_classes, channels_in = 28, 10, 1\n",
        "    return train_loader, valid_loader, test_loader, image_size, n_classes, channels_in"
      ],
      "metadata": {
        "id": "xkDUB6-lW9BB"
      },
      "execution_count": 2,
      "outputs": []
    },
    {
      "cell_type": "code",
      "source": [
        "class CCP(Model):\n",
        "    def __init__(self, hidden_size, image_size=28, channels_in=1, n_degree=4, bias=False, n_classes=10):\n",
        "        super(CCP, self).__init__()\n",
        "        self.image_size = image_size\n",
        "        self.channels_in = channels_in\n",
        "        self.hidden_size = hidden_size\n",
        "        self.n_classes = n_classes\n",
        "        self.n_degree = n_degree\n",
        "        self.total_image_size = self.image_size * self.image_size * channels_in\n",
        "        init_U = tf.keras.initializers.RandomUniform(minval=-1*np.sqrt(1/self.total_image_size),\n",
        "                                                          maxval=np.sqrt(1/self.total_image_size))\n",
        "        for i in range(1, self.n_degree + 1):\n",
        "            setattr(self, 'U{}'.format(i), layers.Dense(self.hidden_size,\n",
        "                                                        use_bias=bias,\n",
        "                                                        kernel_initializer=init_U,\n",
        "                                                        bias_initializer=init_U))\n",
        "        init_C = tf.keras.initializers.RandomUniform(minval=-1*np.sqrt(1/self.hidden_size),\n",
        "                                                          maxval=np.sqrt(1/self.hidden_size))\n",
        "        self.C = layers.Dense(self.n_classes,use_bias=True,kernel_initializer=init_C,bias_initializer=init_C)\n",
        "\n",
        "    def call(self, z):\n",
        "        h = layers.Flatten(input_shape=(self.image_size, self.image_size,self.channels_in))(z)\n",
        "        out = self.U1(h)\n",
        "        for i in range(2, self.n_degree + 1):\n",
        "            out = getattr(self, 'U{}'.format(i))(h) * out + out\n",
        "        out = self.C(out)\n",
        "        return out\n",
        "\n",
        "train_loader, valid_loader, test_loader, image_size, n_classes, channels_in = load_db(batch_size=64)\n",
        "# create the model.\n",
        "net = CCP(16, image_size=image_size, n_classes=n_classes)\n",
        "# # define the optimizer\n",
        "opt = tf.keras.optimizers.SGD(learning_rate=0.001)\n",
        "# # aggregate losses and accuracy.\n",
        "train_losses, acc_list = [], []\n",
        "train_loss = tf.keras.metrics.Mean(name='train_loss')\n",
        "train_accuracy = tf.keras.metrics.SparseCategoricalAccuracy(name='train_accuracy')\n",
        "test_loss = tf.keras.metrics.Mean(name='test_loss')\n",
        "test_accuracy = tf.keras.metrics.SparseCategoricalAccuracy(name='test_accuracy')"
      ],
      "metadata": {
        "id": "DTKsC5s9pdfT"
      },
      "execution_count": 3,
      "outputs": []
    },
    {
      "cell_type": "code",
      "source": [
        "criterion = tf.keras.losses.SparseCategoricalCrossentropy(from_logits=True)\n",
        "\n",
        "def train(train_loader, net, optimizer, criterion, epoch,):\n",
        "    \"\"\" Perform single epoch of the training.\"\"\"\n",
        "    for idx, data_dict in enumerate(train_loader):\n",
        "        img = data_dict[0]\n",
        "        label = data_dict[1]\n",
        "        with tf.GradientTape() as tape:\n",
        "            predictions = net(img, training=True)\n",
        "            loss = criterion(label, predictions)\n",
        "        gradients = tape.gradient(loss, net.trainable_variables)\n",
        "        optimizer.apply_gradients(zip(gradients, net.trainable_variables))\n",
        "        train_loss(loss)\n",
        "        train_accuracy(label, predictions)\n",
        "        if idx % 100 == 0 and idx > 0:\n",
        "            m2 = ('Epoch: {}, Epoch iters: {} / {}\\t'\n",
        "                  'Loss: {:.04f}, Acc: {:.06f}')\n",
        "            print(m2.format(epoch, idx, len(train_loader), float(train_loss.result()), train_accuracy.result()))\n",
        "    return train_loss.result()\n",
        "\n",
        "def test(test_loader):\n",
        "    \"\"\" Perform testing, i.e. run net on test_loader data\n",
        "      and return the accuracy. \"\"\"\n",
        "    for test_images, test_labels in test_loader:\n",
        "        predictions = net(test_images, training=False)\n",
        "        t_loss = criterion(test_labels, predictions)\n",
        "        test_loss(t_loss)\n",
        "        test_accuracy(test_labels, predictions)\n",
        "    return test_accuracy.result()\n",
        "\n",
        "acc = 0.\n",
        "for epoch in range(0, 5):\n",
        "    print('Epoch {} (previous validation accuracy: {:.03f})'.format(epoch, acc))\n",
        "    train_loss.reset_states()\n",
        "    train_accuracy.reset_states()\n",
        "    test_loss.reset_states()\n",
        "    test_accuracy.reset_states()\n",
        "    loss_tr = train(train_loader, net, opt, criterion, epoch)\n",
        "    acc = test(test_loader)\n",
        "    train_losses.append(loss_tr)\n",
        "    acc_list.append(acc)"
      ],
      "metadata": {
        "colab": {
          "base_uri": "https://localhost:8080/"
        },
        "id": "sYjBxB5bXT3X",
        "outputId": "d46617ed-00e5-4247-da57-50fccef65d76"
      },
      "execution_count": 4,
      "outputs": [
        {
          "output_type": "stream",
          "name": "stdout",
          "text": [
            "Epoch 0 (previous validation accuracy: 0.000)\n",
            "Epoch: 0, Epoch iters: 100 / 750\tLoss: 2.2229, Acc: 0.169090\n",
            "Epoch: 0, Epoch iters: 200 / 750\tLoss: 2.0040, Acc: 0.295787\n",
            "Epoch: 0, Epoch iters: 300 / 750\tLoss: 1.7247, Acc: 0.409209\n",
            "Epoch: 0, Epoch iters: 400 / 750\tLoss: 1.4857, Acc: 0.499532\n",
            "Epoch: 0, Epoch iters: 500 / 750\tLoss: 1.3121, Acc: 0.563529\n",
            "Epoch: 0, Epoch iters: 600 / 750\tLoss: 1.1836, Acc: 0.609011\n",
            "Epoch: 0, Epoch iters: 700 / 750\tLoss: 1.0909, Acc: 0.641829\n",
            "Epoch 1 (previous validation accuracy: 0.865)\n",
            "Epoch: 1, Epoch iters: 100 / 750\tLoss: 0.4559, Acc: 0.867420\n",
            "Epoch: 1, Epoch iters: 200 / 750\tLoss: 0.4490, Acc: 0.868315\n",
            "Epoch: 1, Epoch iters: 300 / 750\tLoss: 0.4403, Acc: 0.869809\n",
            "Epoch: 1, Epoch iters: 400 / 750\tLoss: 0.4321, Acc: 0.871532\n",
            "Epoch: 1, Epoch iters: 500 / 750\tLoss: 0.4235, Acc: 0.873721\n",
            "Epoch: 1, Epoch iters: 600 / 750\tLoss: 0.4150, Acc: 0.876560\n",
            "Epoch: 1, Epoch iters: 700 / 750\tLoss: 0.4075, Acc: 0.878655\n",
            "Epoch 2 (previous validation accuracy: 0.902)\n",
            "Epoch: 2, Epoch iters: 100 / 750\tLoss: 0.3411, Acc: 0.894338\n",
            "Epoch: 2, Epoch iters: 200 / 750\tLoss: 0.3427, Acc: 0.897077\n",
            "Epoch: 2, Epoch iters: 300 / 750\tLoss: 0.3465, Acc: 0.896283\n",
            "Epoch: 2, Epoch iters: 400 / 750\tLoss: 0.3457, Acc: 0.898067\n",
            "Epoch: 2, Epoch iters: 500 / 750\tLoss: 0.3424, Acc: 0.898827\n",
            "Epoch: 2, Epoch iters: 600 / 750\tLoss: 0.3389, Acc: 0.899724\n",
            "Epoch: 2, Epoch iters: 700 / 750\tLoss: 0.3392, Acc: 0.899875\n",
            "Epoch 3 (previous validation accuracy: 0.910)\n",
            "Epoch: 3, Epoch iters: 100 / 750\tLoss: 0.3105, Acc: 0.907797\n",
            "Epoch: 3, Epoch iters: 200 / 750\tLoss: 0.3090, Acc: 0.908504\n",
            "Epoch: 3, Epoch iters: 300 / 750\tLoss: 0.3150, Acc: 0.906302\n",
            "Epoch: 3, Epoch iters: 400 / 750\tLoss: 0.3147, Acc: 0.905821\n",
            "Epoch: 3, Epoch iters: 500 / 750\tLoss: 0.3126, Acc: 0.906905\n",
            "Epoch: 3, Epoch iters: 600 / 750\tLoss: 0.3120, Acc: 0.907368\n",
            "Epoch: 3, Epoch iters: 700 / 750\tLoss: 0.3075, Acc: 0.908702\n",
            "Epoch 4 (previous validation accuracy: 0.920)\n",
            "Epoch: 4, Epoch iters: 100 / 750\tLoss: 0.2633, Acc: 0.920019\n",
            "Epoch: 4, Epoch iters: 200 / 750\tLoss: 0.2788, Acc: 0.915190\n",
            "Epoch: 4, Epoch iters: 300 / 750\tLoss: 0.2854, Acc: 0.914244\n",
            "Epoch: 4, Epoch iters: 400 / 750\tLoss: 0.2806, Acc: 0.915524\n",
            "Epoch: 4, Epoch iters: 500 / 750\tLoss: 0.2835, Acc: 0.915450\n",
            "Epoch: 4, Epoch iters: 600 / 750\tLoss: 0.2825, Acc: 0.915739\n",
            "Epoch: 4, Epoch iters: 700 / 750\tLoss: 0.2825, Acc: 0.915857\n"
          ]
        }
      ]
    },
    {
      "cell_type": "code",
      "source": [
        "%matplotlib inline\n",
        "plt.plot(train_losses)\n",
        "plt.title('Train loss')\n",
        "plt.figure()\n",
        "plt.plot(acc_list)\n",
        "plt.title('Validation accuracy')"
      ],
      "metadata": {
        "colab": {
          "base_uri": "https://localhost:8080/",
          "height": 562
        },
        "id": "813GhAL6Xcr-",
        "outputId": "c145c0a8-c8e7-4b07-c601-4bc7bdc57b3d"
      },
      "execution_count": 5,
      "outputs": [
        {
          "output_type": "execute_result",
          "data": {
            "text/plain": [
              "Text(0.5, 1.0, 'Validation accuracy')"
            ]
          },
          "metadata": {},
          "execution_count": 5
        },
        {
          "output_type": "display_data",
          "data": {
            "text/plain": [
              "<Figure size 432x288 with 1 Axes>"
            ],
            "image/png": "[encoded data removed]"
          },
          "metadata": {
            "needs_background": "light"
          }
        },
        {
          "output_type": "display_data",
          "data": {
            "text/plain": [
              "<Figure size 432x288 with 1 Axes>"
            ],
            "image/png": "[encoded data removed]"
          },
          "metadata": {
            "needs_background": "light"
          }
        }
      ]
    }
  ]
}