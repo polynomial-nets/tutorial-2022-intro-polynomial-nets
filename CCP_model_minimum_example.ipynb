{
  "nbformat": 4,
  "nbformat_minor": 0,
  "metadata": {
    "colab": {
      "name": "CCP_model_minimum_example.ipynb",
      "provenance": [],
      "collapsed_sections": []
    },
    "kernelspec": {
      "name": "python3",
      "display_name": "Python 3"
    },
    "language_info": {
      "name": "python"
    }
  },
  "cells": [
    {
      "cell_type": "code",
      "execution_count": null,
      "metadata": {
        "id": "iYAxlbLfGPel"
      },
      "outputs": [],
      "source": [
        "import sys\n",
        "import matplotlib.pyplot as plt\n",
        "import torch\n",
        "from torch import nn, optim\n",
        "import torch.nn.functional as F\n",
        "from torch.autograd import Variable\n",
        "from torch.utils.data import SubsetRandomSampler, DataLoader\n",
        "from torchvision import transforms, datasets"
      ]
    },
    {
      "cell_type": "code",
      "source": [
        "def load_db(root='/tmp/', batch_size=64, shuffle=True, valid_ratio=0.2):\n",
        "  transform = transforms.Compose([transforms.ToTensor(), transforms.Normalize((0.5,), (0.5,))])\n",
        "  trainset = datasets.MNIST(root, train=True, download=True, transform = transform)\n",
        "  testset = datasets.MNIST(root, train=False, download=True, transform = transform)\n",
        "  if valid_ratio > 0:\n",
        "    # # divide the training set into validation and training set.\n",
        "    instance_num = len(trainset)\n",
        "    indices = list(range(instance_num))\n",
        "    split_pt = int(instance_num * valid_ratio)\n",
        "    train_idx, valid_idx = indices[split_pt:], indices[:split_pt]\n",
        "    train_sampler, valid_sampler = SubsetRandomSampler(train_idx), SubsetRandomSampler(valid_idx)\n",
        "    train_loader = DataLoader(trainset, batch_size=batch_size, sampler=train_sampler)\n",
        "    valid_loader = DataLoader(trainset, batch_size=batch_size, sampler=valid_sampler)\n",
        "  else:\n",
        "    train_loader = DataLoader(trainset, batch_size=batch_size, shuffle=shuffle)\n",
        "    valid_loader = None\n",
        "\n",
        "  test_loader = DataLoader(testset, batch_size=batch_size, shuffle=shuffle)\n",
        "  image_size, n_classes, channels_in = 28, 10, 1\n",
        "  return train_loader, valid_loader, test_loader, image_size, n_classes, channels_in"
      ],
      "metadata": {
        "id": "nls--aq2Gksq"
      },
      "execution_count": null,
      "outputs": []
    },
    {
      "cell_type": "code",
      "source": [
        "class CCP(nn.Module):\n",
        "    def __init__(self, hidden_size, image_size=28, channels_in=1, n_degree=4, bias=False, n_classes=10):\n",
        "        super(CCP, self).__init__()\n",
        "        self.image_size = image_size\n",
        "        self.channels_in = channels_in\n",
        "        self.total_image_size = self.image_size * self.image_size * channels_in\n",
        "        self.hidden_size = hidden_size\n",
        "        self.n_classes = n_classes\n",
        "        self.n_degree = n_degree\n",
        "        for i in range(1, self.n_degree + 1):\n",
        "            setattr(self, 'U{}'.format(i), nn.Linear(self.total_image_size, self.hidden_size, bias=bias))\n",
        "        self.C = nn.Linear(self.hidden_size, self.n_classes, bias=True)\n",
        "\n",
        "    def forward(self, z):\n",
        "        h = z.view(-1, self.total_image_size)\n",
        "        out = self.U1(h)\n",
        "        for i in range(2, self.n_degree + 1):\n",
        "            out = getattr(self, 'U{}'.format(i))(h) * out + out\n",
        "        out = self.C(out)\n",
        "        return out\n",
        "\n",
        "    def weights_init(self, m):\n",
        "        classname = m.__class__.__name__\n",
        "        if classname.find('Conv') != -1 and classname != 'CCP_Conv' and classname != 'NCP_Conv':\n",
        "            m.weight.data.normal_(0.0, 0.01)\n",
        "        elif classname.find('BatchNorm') != -1:\n",
        "            m.weight.data.normal_(1.0, 0.02)\n",
        "            m.bias.data.fill_(0)\n",
        "        # print('initializing {}'.format(classname))\n",
        "\n",
        "train_loader, valid_loader, test_loader, image_size, n_classes, channels_in = load_db(batch_size=64)\n",
        "# create the model.\n",
        "net = CCP(16, image_size=image_size, n_classes=n_classes)\n",
        "net.apply(net.weights_init)\n",
        "# # define the optimizer.\n",
        "opt = optim.SGD(net.parameters(), lr=0.001)\n",
        "# # aggregate losses and accuracy.\n",
        "train_losses, acc_list = [], []"
      ],
      "metadata": {
        "id": "N7dR8-UTH3ud"
      },
      "execution_count": null,
      "outputs": []
    },
    {
      "cell_type": "code",
      "source": [
        "cuda = torch.cuda.is_available()\n",
        "device = torch.device('cuda' if cuda else 'cpu')\n",
        "criterion = torch.nn.CrossEntropyLoss().to(device)\n",
        "net = net.to(device)\n",
	"\n",
        "def train(train_loader, net, optimizer, criterion, epoch, device):\n",
        "    \"\"\" Perform single epoch of the training.\"\"\"\n",
        "    net.train()\n",
        "    train_loss, correct, total = 0, 0, 0\n",
        "    for idx, data_dict in enumerate(train_loader):\n",
        "        img = data_dict[0]\n",
        "        label = data_dict[1]\n",
        "        inputs, label = img.to(device), label.to(device)\n",
        "        optimizer.zero_grad()\n",
        "        pred = net(inputs)\n",
        "        loss = criterion(pred, label)\n",
        "        assert not torch.isnan(loss), 'NaN loss.'\n",
        "        loss.backward()\n",
        "        optimizer.step()\n",
        "\n",
        "        train_loss += loss.item()\n",
        "        _, predicted = torch.max(pred.data, 1)\n",
        "        total += label.size(0)\n",
        "        correct += predicted.eq(label).cpu().sum()\n",
        "        if idx % 100 == 0 and idx > 0:\n",
        "\n",
        "            acc = float(correct) / total\n",
        "            m2 = ('Epoch: {}, Epoch iters: {} / {}\\t'\n",
        "                  'Loss: {:.04f}, Acc: {:.06f}')\n",
        "            print(m2.format(epoch, idx, len(train_loader), float(train_loss), acc))\n",
        "    return train_loss\n",
        "\n",
        "def test(net, test_loader, device='cuda'):\n",
        "    \"\"\" Perform testing, i.e. run net on test_loader data\n",
        "        and return the accuracy. \"\"\"\n",
        "    net.eval()\n",
        "    correct, total = 0, 0\n",
        "    for (idx, data) in enumerate(test_loader):\n",
        "        sys.stdout.write('\\r [%d/%d]' % (idx + 1, len(test_loader)))\n",
        "        sys.stdout.flush()\n",
        "        img = data[0].to(device)\n",
        "        label = data[1].to(device)\n",
        "        with torch.no_grad():\n",
        "             pred = net(img)\n",
        "        _, predicted = pred.max(1)\n",
        "        total += label.size(0)\n",
        "        correct += predicted.eq(label).sum().item()\n",
        "    return correct / total\n",
        "\n",
        "acc = 0.\n",
        "for epoch in range(0, 5):\n",
        "    print('Epoch {} (previous validation accuracy: {:.03f})'.format(epoch, acc))\n",
        "    loss_tr = train(train_loader, net, opt, criterion, epoch, device)\n",
        "    acc = test(net, valid_loader, device=device)\n",
        "    train_losses.append(loss_tr)\n",
        "    acc_list.append(acc)"
      ],
      "metadata": {
        "colab": {
          "base_uri": "https://localhost:8080/"
        },
        "id": "yq7g6psaLFOH",
        "outputId": "34601430-4564-4428-c9b8-f4622a862895"
      },
      "execution_count": null,
      "outputs": [
        {
          "output_type": "stream",
          "name": "stdout",
          "text": [
            "Epoch 0 (previous validation accuracy: 0.000)\n",
            "Epoch: 0, Epoch iters: 100 / 750\tLoss: 206.1170, Acc: 0.277692\n",
            "Epoch: 0, Epoch iters: 200 / 750\tLoss: 322.6100, Acc: 0.443252\n",
            "Epoch: 0, Epoch iters: 300 / 750\tLoss: 398.6233, Acc: 0.548328\n",
            "Epoch: 0, Epoch iters: 400 / 750\tLoss: 458.1429, Acc: 0.614168\n",
            "Epoch: 0, Epoch iters: 500 / 750\tLoss: 510.8598, Acc: 0.659649\n",
            "Epoch: 0, Epoch iters: 600 / 750\tLoss: 557.9363, Acc: 0.692128\n",
            "Epoch: 0, Epoch iters: 700 / 750\tLoss: 601.8254, Acc: 0.717101\n",
            " [188/188]Epoch 1 (previous validation accuracy: 0.866)\n",
            "Epoch: 1, Epoch iters: 100 / 750\tLoss: 39.8433, Acc: 0.876392\n",
            "Epoch: 1, Epoch iters: 200 / 750\tLoss: 79.1471, Acc: 0.878809\n",
            "Epoch: 1, Epoch iters: 300 / 750\tLoss: 116.4998, Acc: 0.882371\n",
            "Epoch: 1, Epoch iters: 400 / 750\tLoss: 151.7426, Acc: 0.885365\n",
            "Epoch: 1, Epoch iters: 500 / 750\tLoss: 188.8023, Acc: 0.886290\n",
            "Epoch: 1, Epoch iters: 600 / 750\tLoss: 222.6400, Acc: 0.888779\n",
            "Epoch: 1, Epoch iters: 700 / 750\tLoss: 256.3597, Acc: 0.890135\n",
            " [188/188]Epoch 2 (previous validation accuracy: 0.904)\n",
            "Epoch: 2, Epoch iters: 100 / 750\tLoss: 31.4361, Acc: 0.907797\n",
            "Epoch: 2, Epoch iters: 200 / 750\tLoss: 62.3127, Acc: 0.908116\n",
            "Epoch: 2, Epoch iters: 300 / 750\tLoss: 93.1543, Acc: 0.908586\n",
            "Epoch: 2, Epoch iters: 400 / 750\tLoss: 124.5349, Acc: 0.907029\n",
            "Epoch: 2, Epoch iters: 500 / 750\tLoss: 155.0228, Acc: 0.908184\n",
            "Epoch: 2, Epoch iters: 600 / 750\tLoss: 184.6575, Acc: 0.908616\n",
            "Epoch: 2, Epoch iters: 700 / 750\tLoss: 214.5506, Acc: 0.909125\n",
            " [188/188]Epoch 3 (previous validation accuracy: 0.912)\n",
            "Epoch: 3, Epoch iters: 100 / 750\tLoss: 28.5459, Acc: 0.914913\n",
            "Epoch: 3, Epoch iters: 200 / 750\tLoss: 57.2635, Acc: 0.914335\n",
            "Epoch: 3, Epoch iters: 300 / 750\tLoss: 82.7611, Acc: 0.917099\n",
            "Epoch: 3, Epoch iters: 400 / 750\tLoss: 110.3432, Acc: 0.917589\n",
            "Epoch: 3, Epoch iters: 500 / 750\tLoss: 137.5906, Acc: 0.918039\n",
            "Epoch: 3, Epoch iters: 600 / 750\tLoss: 164.9473, Acc: 0.918287\n",
            "Epoch: 3, Epoch iters: 700 / 750\tLoss: 192.3460, Acc: 0.917997\n",
            " [188/188]Epoch 4 (previous validation accuracy: 0.924)\n",
            "Epoch: 4, Epoch iters: 100 / 750\tLoss: 26.2586, Acc: 0.923731\n",
            "Epoch: 4, Epoch iters: 200 / 750\tLoss: 50.7521, Acc: 0.925995\n",
            "Epoch: 4, Epoch iters: 300 / 750\tLoss: 74.6934, Acc: 0.926132\n",
            "Epoch: 4, Epoch iters: 400 / 750\tLoss: 100.1011, Acc: 0.925888\n",
            "Epoch: 4, Epoch iters: 500 / 750\tLoss: 124.6829, Acc: 0.925836\n",
            "Epoch: 4, Epoch iters: 600 / 750\tLoss: 151.0332, Acc: 0.925931\n",
            "Epoch: 4, Epoch iters: 700 / 750\tLoss: 176.1623, Acc: 0.925954\n",
            " [188/188]"
          ]
        }
      ]
    },
    {
      "cell_type": "code",
      "source": [
        "%matplotlib inline\n",
        "plt.plot(train_losses)\n",
        "plt.title('Train loss')\n",
        "plt.figure()\n",
        "plt.plot(acc_list)\n",
        "plt.title('Validation accuracy')"
      ],
      "metadata": {
        "colab": {
          "base_uri": "https://localhost:8080/",
          "height": 562
        },
        "id": "FhruL8NQbVjb",
        "outputId": "4bb34c78-f2c8-4433-a295-2154f4e89d2c"
      },
      "execution_count": null,
      "outputs": [
        {
          "output_type": "execute_result",
          "data": {
            "text/plain": [
              "Text(0.5, 1.0, 'Validation accuracy')"
            ]
          },
          "metadata": {},
          "execution_count": 5
        },
        {
          "output_type": "display_data",
          "data": {
            "image/png": "[encoded data removed]",
            "text/plain": [
              "<Figure size 432x288 with 1 Axes>"
            ]
          },
          "metadata": {
            "needs_background": "light"
          }
        },
        {
          "output_type": "display_data",
          "data": {
            "image/png": "[encoded data removed]",
            "text/plain": [
              "<Figure size 432x288 with 1 Axes>"
            ]
          },
          "metadata": {
            "needs_background": "light"
          }
        }
      ]
    }
  ]
}
